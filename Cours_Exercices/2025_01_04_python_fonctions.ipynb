{
  "metadata": {
    "kernelspec": {
      "name": "python",
      "display_name": "Python (Pyodide)",
      "language": "python"
    },
    "language_info": {
      "codemirror_mode": {
        "name": "python",
        "version": 3
      },
      "file_extension": ".py",
      "mimetype": "text/x-python",
      "name": "python",
      "nbconvert_exporter": "python",
      "pygments_lexer": "ipython3",
      "version": "3.8"
    }
  },
  "nbformat_minor": 4,
  "nbformat": 4,
  "cells": [
    {
      "cell_type": "code",
      "source": "# Écrivez une fonction carre qui prend un nombre comme argument et retourne son carré.\n\ndef carre(n):\n    return n*n\n\nn = carre(5)\nprint(n)",
      "metadata": {
        "trusted": true
      },
      "outputs": [
        {
          "name": "stdout",
          "text": "25\n",
          "output_type": "stream"
        }
      ],
      "execution_count": 4
    },
    {
      "cell_type": "code",
      "source": "# Créez une fonction max_de_trois qui prend trois nombres en paramètre et retourne le plus grand.\n\ndef max_de_trois(a, b, c):\n    return max(a, b, c)\n\nn = max_de_trois(1062, 702, 2025)\nprint(n)",
      "metadata": {
        "trusted": true
      },
      "outputs": [
        {
          "name": "stdout",
          "text": "2025\n",
          "output_type": "stream"
        }
      ],
      "execution_count": 7
    },
    {
      "cell_type": "code",
      "source": "# Écrivez une fonction filtrer_pairs qui prend une liste de nombres en argument et retourne une nouvelle liste contenant uniquement les nombres pairs.\nbus = [210, 325, 56, 46, 124, 318, 115, 118]\n\ndef filter_pairs(bus):\n    pairs = [n for n in liste if n % 2 == 0]\n    return pairs\nnombre_de_pairs = filter_pairs(bus)\nprint(f\"Voici les nombres pairs : {nombre_de_pairs}\")",
      "metadata": {
        "trusted": true
      },
      "outputs": [
        {
          "name": "stdout",
          "text": "Voici les nombres pairs : [210, 56, 46, 124, 318, 118, 116]\n",
          "output_type": "stream"
        }
      ],
      "execution_count": 22
    }
  ]
}