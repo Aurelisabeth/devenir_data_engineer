{
  "metadata": {
    "kernelspec": {
      "name": "python",
      "display_name": "Python (Pyodide)",
      "language": "python"
    },
    "language_info": {
      "codemirror_mode": {
        "name": "python",
        "version": 3
      },
      "file_extension": ".py",
      "mimetype": "text/x-python",
      "name": "python",
      "nbconvert_exporter": "python",
      "pygments_lexer": "ipython3",
      "version": "3.8"
    }
  },
  "nbformat_minor": 4,
  "nbformat": 4,
  "cells": [
    {
      "cell_type": "code",
      "source": "compteur = 2\nwhile compteur <= 10:\n    print(compteur)\n    compteur += 2",
      "metadata": {
        "trusted": true
      },
      "outputs": [
        {
          "name": "stdout",
          "text": "2\n4\n6\n8\n10\n",
          "output_type": "stream"
        }
      ],
      "execution_count": 1
    },
    {
      "cell_type": "code",
      "source": "# Utilisez une boucle for pour parcourir une chaîne de caractères, et afficher chaque lettre sur une nouvelle ligne.\nmots = \"Amandes\"\nfor mot in mots:\n    print(mot)",
      "metadata": {
        "trusted": true
      },
      "outputs": [
        {
          "name": "stdout",
          "text": "A\nm\na\nn\nd\ne\ns\n",
          "output_type": "stream"
        }
      ],
      "execution_count": 5
    },
    {
      "cell_type": "code",
      "source": "# Utilisez for et break pour parcourir une liste et arrêter la boucle dès que vous rencontrez la valeur \"stop\".\ncode_de_route = [\"Tourner\", \"Céder le passage\", \"Stop\", \"Stationner\"]\nfor i in code_de_route:\n    if i == \"Stop\":\n        break\n    if i == \"r\":\n        continue\n    print(i)",
      "metadata": {
        "trusted": true
      },
      "outputs": [
        {
          "name": "stdout",
          "text": "Tourner\nCéder le passage\n",
          "output_type": "stream"
        }
      ],
      "execution_count": 14
    },
    {
      "cell_type": "code",
      "source": "",
      "metadata": {
        "trusted": true
      },
      "outputs": [],
      "execution_count": null
    }
  ]
}