{
 "cells": [
  {
   "cell_type": "markdown",
   "metadata": {},
   "source": [
    "# S2J1-2 : SQL (PostgreSQL ou MySQL).\n",
    "\n",
    "### **Objectif :**\n",
    "\n",
    "- Comprendre les concepts fondamentaux des bases de données relationnelles.\n",
    "- Apprendre à écrire des requêtes SQL pour interagir avec les données.\n",
    "- Manipuler, explorer et extraire des informations utiles à partir de tables.\n",
    "\n",
    "---\n",
    "\n",
    "### **1. Introduction aux bases de données relationnelles.**\n",
    "\n",
    "Un Data Engineer travaille souvent avec des bases de données relationnelles comme PostgreSQL, MySQL ou SQLite. Voici les concepts clés :\n",
    "\n",
    "- **Concepts fondamentaux** :\n",
    "    - **Table** : Une structure tabulaire composée de colonnes et de lignes.\n",
    "    - **Clé primaire** : Une colonne (ou combinaison de colonnes) qui identifie de manière unique une ligne.\n",
    "    - **Clé étrangère** : Une colonne qui établit une relation avec une autre table.\n",
    "    - **Relations** : Les bases relationnelles organisent les données dans des tables liées entre elles (relations).\n",
    "- **Schéma relationnel** :\n",
    "    \n",
    "    Comprendre comment plusieurs tables s'articulent dans une base grâce aux clés primaires et étrangères.\n",
    "    \n",
    "- **Installation et outils pratiques** :\n",
    "    - Installer une base locale comme SQLite ou PostgreSQL.\n",
    "    - Utiliser des outils comme **DBeaver**, **pgAdmin**, ou des notebooks avec SQLAlchemy pour exécuter des requêtes.\n",
    "\n",
    "---\n",
    "\n",
    "### **2. Langage SQL : Concepts de base.**\n",
    "\n",
    "### **a. Création et exploration d’une table.**\n",
    "\n",
    "- **Créer une table** :"
   ]
  },
  {
   "cell_type": "code",
   "execution_count": null,
   "metadata": {},
   "outputs": [],
   "source": [
    "import sqlite3\n",
    "\n",
    "# Connexion à la base de données (un fichier local sera créé)\n",
    "conn = sqlite3.connect(\"ventes.db\")\n",
    "\n",
    "# Création d'un curseur pour exécuter les commandes SQL\n",
    "cursor = conn.cursor()\n",
    "\n",
    "# Création de la table \"ventes\"\n",
    "cursor.execute(\"\"\"\n",
    "CREATE TABLE IF NOT EXISTS ventes (\n",
    "    id INTEGER PRIMARY KEY,\n",
    "    produit TEXT,\n",
    "    quantité INTEGER,\n",
    "    prix DECIMAL(10, 2),\n",
    "    date_vente DATE\n",
    ")\n",
    "\"\"\")\n",
    "\n",
    "# Valider les changements\n",
    "conn.commit()\n",
    "\n",
    "# Fermer la connexion\n",
    "conn.close()\n",
    "\n",
    "print(\"Table 'ventes' créée avec succès.\")\n"
   ]
  },
  {
   "cell_type": "markdown",
   "metadata": {},
   "source": [
    "- **Insérer des données** :"
   ]
  },
  {
   "cell_type": "code",
   "execution_count": null,
   "metadata": {},
   "outputs": [],
   "source": [
    "conn = sqlite3.connect(\"ventes.db\")\n",
    "cursor = conn.cursor()\n",
    "\n",
    "# Insertion de données dans la table\n",
    "cursor.execute(\"\"\"\n",
    "INSERT INTO ventes (produit, quantité, prix, date_vente) \n",
    "VALUES ('Télévision', 3, 299.99, '2025-01-10'),\n",
    "('Smartphone', 5, 499.99, '2025-01-11'),\n",
    "('Ordinateur', 2, 899.99, '2025-01-12'),\n",
    "('Casque Audio', 10, 49.99, '2025-01-13'),\n",
    "('Tablette', 4, 199.99, '2025-01-13'),\n",
    "('Imprimante', 1, 149.99, '2025-01-14'),\n",
    "('Souris', 8, 19.99, '2025-01-14'),\n",
    "('Clavier', 6, 29.99, '2025-01-15'),\n",
    "('Moniteur', 3, 159.99, '2025-01-15'),\n",
    "('Disque Dur Externe', 2, 89.99, '2025-01-16')\n",
    "\"\"\")\n",
    "\n",
    "conn.commit()\n",
    "conn.close()\n",
    "\n",
    "print(\"Données insérées avec succès.\")"
   ]
  },
  {
   "cell_type": "markdown",
   "metadata": {},
   "source": [
    "- Explorer les données :"
   ]
  },
  {
   "cell_type": "code",
   "execution_count": null,
   "metadata": {},
   "outputs": [],
   "source": [
    "import pandas as pd\n",
    "\n",
    "# Connexion à la base de données\n",
    "conn = sqlite3.connect(\"ventes.db\")\n",
    "\n",
    "# Exécuter la requête et charger les résultats dans un DataFrame Pandas pour un affichage tabulaire\n",
    "query = \"SELECT * FROM ventes;\"\n",
    "results = pd.read_sql_query(query, conn)\n",
    "\n",
    "# Afficher les résultats\n",
    "print(results)\n",
    "\n",
    "# Fermer la connexion\n",
    "conn.close()"
   ]
  },
  {
   "cell_type": "markdown",
   "metadata": {},
   "source": [
    "### **b. Lecture et sélection des données.**\n",
    "\n",
    "- **Sélections simples** :"
   ]
  },
  {
   "cell_type": "code",
   "execution_count": null,
   "metadata": {},
   "outputs": [],
   "source": [
    "# Connexion à la base de données\n",
    "conn = sqlite3.connect(\"ventes.db\")\n",
    "\n",
    "# Exécuter la requête et charger les résultats dans un DataFrame Pandas pour un affichage tabulaire\n",
    "query = \"SELECT produit, prix FROM ventes;\"\n",
    "results = pd.read_sql_query(query, conn)\n",
    "\n",
    "# Afficher les résultats\n",
    "print(results)\n",
    "\n",
    "# Fermer la connexion\n",
    "conn.close()"
   ]
  },
  {
   "cell_type": "markdown",
   "metadata": {},
   "source": [
    "- Filtres avec WHERE :"
   ]
  },
  {
   "cell_type": "code",
   "execution_count": null,
   "metadata": {},
   "outputs": [],
   "source": [
    "# Connexion à la base de données\n",
    "conn = sqlite3.connect(\"ventes.db\")\n",
    "\n",
    "# Exécuter la requête et charger les résultats dans un DataFrame Pandas pour un affichage tabulaire\n",
    "query = \"SELECT * FROM ventes WHERE quantité > 2;\"\n",
    "results = pd.read_sql_query(query, conn)\n",
    "\n",
    "# Afficher les résultats\n",
    "print(results)\n",
    "\n",
    "# Fermer la connexion\n",
    "conn.close()"
   ]
  },
  {
   "cell_type": "markdown",
   "metadata": {},
   "source": [
    "- Opérateurs logiques :"
   ]
  },
  {
   "cell_type": "code",
   "execution_count": null,
   "metadata": {},
   "outputs": [],
   "source": [
    "# Connexion à la base de données\n",
    "conn = sqlite3.connect(\"ventes.db\")\n",
    "\n",
    "# Exécuter la requête et charger les résultats dans un DataFrame Pandas pour un affichage tabulaire\n",
    "query = \"SELECT * FROM ventes WHERE quantité > 6 AND prix < 500;\"\n",
    "results = pd.read_sql_query(query, conn)\n",
    "\n",
    "# Afficher les résultats\n",
    "print(results)\n",
    "\n",
    "# Fermer la connexion\n",
    "conn.close()"
   ]
  },
  {
   "cell_type": "markdown",
   "metadata": {},
   "source": [
    "- Tri des résultats :"
   ]
  },
  {
   "cell_type": "code",
   "execution_count": null,
   "metadata": {},
   "outputs": [],
   "source": [
    "# Connexion à la base de données\n",
    "conn = sqlite3.connect(\"ventes.db\")\n",
    "\n",
    "# Exécuter la requête et charger les résultats dans un DataFrame Pandas pour un affichage tabulaire\n",
    "query = \"SELECT * FROM ventes ORDER BY prix DESC;\"\n",
    "results = pd.read_sql_query(query, conn)\n",
    "\n",
    "# Afficher les résultats\n",
    "print(results)\n",
    "\n",
    "# Fermer la connexion\n",
    "conn.close()"
   ]
  },
  {
   "cell_type": "markdown",
   "metadata": {},
   "source": [
    "### **c. Agrégations et calculs.**\n",
    "\n",
    "- **Fonctions d’agrégation** :"
   ]
  },
  {
   "cell_type": "code",
   "execution_count": null,
   "metadata": {},
   "outputs": [],
   "source": [
    "# Connexion à la base de données\n",
    "conn = sqlite3.connect(\"ventes.db\")\n",
    "\n",
    "# Exécuter la requête et charger les résultats dans un DataFrame Pandas pour un affichage tabulaire\n",
    "query = \"SELECT COUNT(*) AS nombre_de_ventes, SUM(prix * quantité) AS revenu_total FROM ventes;\"\n",
    "results = pd.read_sql_query(query, conn)\n",
    "\n",
    "# Afficher les résultats\n",
    "print(results)\n",
    "\n",
    "# Fermer la connexion\n",
    "conn.close()"
   ]
  },
  {
   "cell_type": "markdown",
   "metadata": {},
   "source": [
    "- Regroupement des données :"
   ]
  },
  {
   "cell_type": "code",
   "execution_count": null,
   "metadata": {},
   "outputs": [],
   "source": [
    "# Connexion à la base de données\n",
    "conn = sqlite3.connect(\"ventes.db\")\n",
    "\n",
    "# Exécuter la requête et charger les résultats dans un DataFrame Pandas pour un affichage tabulaire\n",
    "query = \"SELECT produit, SUM(quantité) AS total_quantité FROM ventes GROUP BY produit;\"\n",
    "results = pd.read_sql_query(query, conn)\n",
    "\n",
    "# Afficher les résultats\n",
    "print(results)\n",
    "\n",
    "# Fermer la connexion\n",
    "conn.close()"
   ]
  },
  {
   "cell_type": "markdown",
   "metadata": {},
   "source": [
    "### **3. Relations entre tables.**\n",
    "\n",
    "### **a. Créer plusieurs tables reliées.**"
   ]
  },
  {
   "cell_type": "code",
   "execution_count": null,
   "metadata": {},
   "outputs": [],
   "source": [
    "import sqlite3\n",
    "import pandas as pd\n",
    "\n",
    "# Connexion à la base de données (un fichier local sera créé)\n",
    "conn = sqlite3.connect(\"clients.db\")\n",
    "\n",
    "# Création d'un curseur pour exécuter les commandes SQL\n",
    "cursor = conn.cursor()\n",
    "\n",
    "# Création de la table \"clients\"\n",
    "cursor.execute(\"\"\"\n",
    "CREATE TABLE IF NOT EXISTS clients (\n",
    "    client_id INT PRIMARY KEY,\n",
    "    nom VARCHAR(100),\n",
    "    email VARCHAR(100)\n",
    ");\n",
    "\"\"\")\n",
    "\n",
    "# Création de la table \"commandes\"\n",
    "cursor.execute(\"\"\"\n",
    "CREATE TABLE IF NOT EXISTS commandes (\n",
    "    commande_id INT PRIMARY KEY,\n",
    "    client_id INT,\n",
    "    produit VARCHAR(100),\n",
    "    quantité INT,\n",
    "    FOREIGN KEY (client_id) REFERENCES clients(client_id)\n",
    ");\n",
    "\"\"\")\n",
    "\n",
    "# Insérer des données dans les tables pour tester\n",
    "cursor.execute(\"INSERT INTO clients (client_id, nom, email) VALUES (1, 'Alice', 'alice@example.com');\")\n",
    "cursor.execute(\"INSERT INTO clients (client_id, nom, email) VALUES (2, 'Bob', 'bob@example.com');\")\n",
    "cursor.execute(\"INSERT INTO commandes (commande_id, client_id, produit, quantité) VALUES (1, 1, 'Produit A', 2);\")\n",
    "cursor.execute(\"INSERT INTO commandes (commande_id, client_id, produit, quantité) VALUES (2, 2, 'Produit B', 3);\")\n",
    "\n",
    "# Valider les changements\n",
    "conn.commit()\n",
    "\n",
    "# Jointure interne (INNER JOIN) :\n",
    "query = \"\"\"\n",
    "SELECT c.nom, cmd.produit, cmd.quantité \n",
    "FROM clients c \n",
    "INNER JOIN commandes cmd ON c.client_id = cmd.client_id;\n",
    "\"\"\"\n",
    "results = pd.read_sql_query(query, conn)\n",
    "\n",
    "# Créer un index sur la table commandes (corrigé)\n",
    "cursor.execute(\"CREATE INDEX IF NOT EXISTS idx_produit ON commandes(produit);\")\n",
    "\n",
    "# Créer une vue sur les commandes (corrigé)\n",
    "cursor.execute(\"\"\"\n",
    "CREATE VIEW IF NOT EXISTS ventes_annuelles AS\n",
    "SELECT produit, SUM(quantité) AS total_vendu\n",
    "FROM commandes\n",
    "GROUP BY produit;\n",
    "\"\"\")\n",
    "\n",
    "# Valider les changements\n",
    "conn.commit()\n",
    "\n",
    "# Afficher les résultats de la jointure\n",
    "print(results)\n",
    "\n",
    "# Fermer la connexion\n",
    "conn.close()\n"
   ]
  }
 ],
 "metadata": {
  "kernelspec": {
   "display_name": "Python 3",
   "language": "python",
   "name": "python3"
  },
  "language_info": {
   "codemirror_mode": {
    "name": "ipython",
    "version": 3
   },
   "file_extension": ".py",
   "mimetype": "text/x-python",
   "name": "python",
   "nbconvert_exporter": "python",
   "pygments_lexer": "ipython3",
   "version": "3.10.11"
  }
 },
 "nbformat": 4,
 "nbformat_minor": 2
}
