{
  "metadata": {
    "kernelspec": {
      "name": "python",
      "display_name": "Python (Pyodide)",
      "language": "python"
    },
    "language_info": {
      "codemirror_mode": {
        "name": "python",
        "version": 3
      },
      "file_extension": ".py",
      "mimetype": "text/x-python",
      "name": "python",
      "nbconvert_exporter": "python",
      "pygments_lexer": "ipython3",
      "version": "3.8"
    }
  },
  "nbformat_minor": 4,
  "nbformat": 4,
  "cells": [
    {
      "cell_type": "code",
      "source": "\"\"\"\nÉcrivez un programme qui demande à l'utilisateur une note (entre 0 et 20) et affiche :\n    - \"Insuffisant\" si la note est inférieure à 10,\n    - \"Passable\" si elle est entre 10 et 12,\n    - \"Bien\" si elle est entre 13 et 16,\n    - \"Très bien\" si elle est supérieure à 16.\n\"\"\"\n\nnote = 9\n\nif note < 10:\n    print(\"Insuffisant\")\nelif note >= 10 and note <= 12:\n    print(\"Passable\")\nelif note >= 13 and note <= 16:\n    print(\"Bien\")\nelse:\n    print(\"Très bien\")",
      "metadata": {
        "trusted": true
      },
      "outputs": [
        {
          "name": "stdout",
          "text": "Insuffisant\n",
          "output_type": "stream"
        }
      ],
      "execution_count": 4
    },
    {
      "cell_type": "code",
      "source": "\"\"\"\nCréez un programme qui vérifie si une année donnée est bissextile. Une année est bissextile si :\n    - Elle est divisible par 4,\n    - Mais pas divisible par 100, sauf si elle est aussi divisible par 400.\n\"\"\"\nannee_bissextile = 2020\n\nif annee_bissextile % 4:\n    print(\"{annee_bissextile} est une année bissextile.\")\nelse :\n    print(\"{annee_bissextile} n'est pas une année bissextile.\")\n\n",
      "metadata": {
        "trusted": true
      },
      "outputs": [],
      "execution_count": null
    },
    {
      "cell_type": "code",
      "source": "# Demandez à l'utilisateur d'entrer un nombre. Affichez s'il est positif, négatif, ou nul.\n\nn = int(input(\"Entrer un nombre : \"))\nif n > 0:\n    print(\"Positif\")\nelif n < 0:\n    print(\"Négatif\")\nelse :\n    print(\"Nul\")",
      "metadata": {
        "trusted": true
      },
      "outputs": [
        {
          "ename": "<class 'TypeError'>",
          "evalue": "int() argument must be a string, a bytes-like object or a real number, not 'PyodideFuture'",
          "traceback": [
            "\u001b[0;31m---------------------------------------------------------------------------\u001b[0m",
            "\u001b[0;31mTypeError\u001b[0m                                 Traceback (most recent call last)",
            "Cell \u001b[0;32mIn[11], line 3\u001b[0m\n\u001b[1;32m      1\u001b[0m \u001b[38;5;66;03m# Demandez à l'utilisateur d'entrer un nombre. Affichez s'il est positif, négatif, ou nul.\u001b[39;00m\n\u001b[0;32m----> 3\u001b[0m n \u001b[38;5;241m=\u001b[39m \u001b[38;5;28;43mint\u001b[39;49m\u001b[43m(\u001b[49m\u001b[38;5;28;43minput\u001b[39;49m\u001b[43m(\u001b[49m\u001b[38;5;124;43m\"\u001b[39;49m\u001b[38;5;124;43mEntrer un nombre : \u001b[39;49m\u001b[38;5;124;43m\"\u001b[39;49m\u001b[43m)\u001b[49m\u001b[43m)\u001b[49m\n\u001b[1;32m      4\u001b[0m \u001b[38;5;28;01mif\u001b[39;00m n \u001b[38;5;241m>\u001b[39m \u001b[38;5;241m0\u001b[39m:\n\u001b[1;32m      5\u001b[0m     \u001b[38;5;28mprint\u001b[39m(\u001b[38;5;124m\"\u001b[39m\u001b[38;5;124mPositif\u001b[39m\u001b[38;5;124m\"\u001b[39m)\n",
            "\u001b[0;31mTypeError\u001b[0m: int() argument must be a string, a bytes-like object or a real number, not 'PyodideFuture'"
          ],
          "output_type": "error"
        },
        {
          "output_type": "stream",
          "name": "stdin",
          "text": "Entrer un nombre :  4\n"
        }
      ],
      "execution_count": 11
    },
    {
      "cell_type": "code",
      "source": "",
      "metadata": {
        "trusted": true
      },
      "outputs": [],
      "execution_count": null
    }
  ]
}