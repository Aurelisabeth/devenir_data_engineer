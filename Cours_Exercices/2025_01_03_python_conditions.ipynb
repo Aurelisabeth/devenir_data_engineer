{
  "metadata": {
    "kernelspec": {
      "name": "python",
      "display_name": "Python (Pyodide)",
      "language": "python"
    },
    "language_info": {
      "codemirror_mode": {
        "name": "python",
        "version": 3
      },
      "file_extension": ".py",
      "mimetype": "text/x-python",
      "name": "python",
      "nbconvert_exporter": "python",
      "pygments_lexer": "ipython3",
      "version": "3.8"
    }
  },
  "nbformat_minor": 4,
  "nbformat": 4,
  "cells": [
    {
      "cell_type": "code",
      "source": "\"\"\"\nÉcrivez un programme qui demande à l'utilisateur une note (entre 0 et 20) et affiche :\n    - \"Insuffisant\" si la note est inférieure à 10,\n    - \"Passable\" si elle est entre 10 et 12,\n    - \"Bien\" si elle est entre 13 et 16,\n    - \"Très bien\" si elle est supérieure à 16.\n\"\"\"\n# note = int(input(\"Entrer une note entre 0 et 20 : \"))\nnote = 9\n\nif note < 0 or note > 20:\n    print(\"Erreur : La note doit être comprise entre 0 et 20.\")\nelif note < 10:\n    print(\"Insuffisant\")\nelif note <= 12:\n    print(\"Passable\")\nelif note <= 16:\n    print(\"Bien\")\nelse:\n    print(\"Très bien\")",
      "metadata": {
        "trusted": true
      },
      "outputs": [
        {
          "name": "stdout",
          "text": "Insuffisant\n",
          "output_type": "stream"
        }
      ],
      "execution_count": 21
    },
    {
      "cell_type": "code",
      "source": "# Créez un programme qui vérifie si une année donnée est bissextile. Une année est bissextile si elle est divisible par 4.\n\n# anne_bissextile = int(input(\"Entrer une année : \"))\nannee_bissextile = 1876\n\nif annee_bissextile % 4 == 0:\n    print(f\"{annee_bissextile} est une année bissextile.\")\nelse :\n    print(f\"{annee_bissextile} n'est pas une année bissextile.\")",
      "metadata": {
        "trusted": true
      },
      "outputs": [
        {
          "name": "stdout",
          "text": "1876 est une année bissextile.\n",
          "output_type": "stream"
        }
      ],
      "execution_count": 22
    },
    {
      "cell_type": "code",
      "source": "# Demandez à l'utilisateur d'entrer un nombre. Affichez s'il est positif, négatif, ou nul.\n\n# n = int(input(\"Entrer un nombre : \"))\nn = 2025\n\nif n > 0:\n    print(\"Positif\")\nelif n < 0:\n    print(\"Négatif\")\nelse :\n    print(\"Nul\")",
      "metadata": {
        "trusted": true
      },
      "outputs": [
        {
          "name": "stdout",
          "text": "Positif\n",
          "output_type": "stream"
        }
      ],
      "execution_count": 23
    },
    {
      "cell_type": "code",
      "source": "",
      "metadata": {
        "trusted": true
      },
      "outputs": [],
      "execution_count": null
    }
  ]
}