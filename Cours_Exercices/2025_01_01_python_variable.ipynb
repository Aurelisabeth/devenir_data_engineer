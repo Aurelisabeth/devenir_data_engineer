{
  "metadata": {
    "kernelspec": {
      "name": "python",
      "display_name": "Python (Pyodide)",
      "language": "python"
    },
    "language_info": {
      "codemirror_mode": {
        "name": "python",
        "version": 3
      },
      "file_extension": ".py",
      "mimetype": "text/x-python",
      "name": "python",
      "nbconvert_exporter": "python",
      "pygments_lexer": "ipython3",
      "version": "3.8"
    }
  },
  "nbformat_minor": 4,
  "nbformat": 4,
  "cells": [
    {
      "cell_type": "code",
      "source": "# Déclarez une variable appelée prenom contenant votre prénom. \n# Changez ensuite sa valeur pour un autre prénom.\nprenom = \"Aurelie\"\nprint(prenom)\nprenom = \"Léa\"\nprint(prenom)",
      "metadata": {
        "trusted": true
      },
      "outputs": [
        {
          "name": "stdout",
          "text": "Aurelie\nLéa\n",
          "output_type": "stream"
        }
      ],
      "execution_count": 4
    },
    {
      "cell_type": "code",
      "source": "# Déclarez deux variables a = 10 et b = 20. \n# Mettez à jour a pour qu’elle contienne la somme de ses valeurs initiales et de b.\na = 10\nb = 20\na += b\nprint(a)",
      "metadata": {
        "trusted": true
      },
      "outputs": [
        {
          "name": "stdout",
          "text": "30\n",
          "output_type": "stream"
        }
      ],
      "execution_count": 6
    },
    {
      "cell_type": "code",
      "source": "# Créez une variable est_vrai contenant la valeur False. \n# Changez-la ensuite en True.\nest_vrai = False\nest_vrai = True\nprint(est_vrai)",
      "metadata": {
        "trusted": true
      },
      "outputs": [
        {
          "name": "stdout",
          "text": "True\n",
          "output_type": "stream"
        }
      ],
      "execution_count": 2
    }
  ]
}