{
 "cells": [
  {
   "cell_type": "markdown",
   "metadata": {},
   "source": [
    "Calculez la somme totale des ventes."
   ]
  },
  {
   "cell_type": "code",
   "execution_count": 7,
   "metadata": {},
   "outputs": [
    {
     "name": "stdout",
     "output_type": "stream",
     "text": [
      "900\n"
     ]
    }
   ],
   "source": [
    "ventes = [100, 200, 150, 300, 150]\n",
    "total = sum(ventes)\n",
    "print(total)"
   ]
  },
  {
   "cell_type": "markdown",
   "metadata": {},
   "source": [
    "### Associez un vendeur à ses ventes.\n",
    "Ajoutez un nouveau vendeur et son total."
   ]
  },
  {
   "cell_type": "code",
   "execution_count": 9,
   "metadata": {},
   "outputs": [
    {
     "name": "stdout",
     "output_type": "stream",
     "text": [
      "{'Alice': 500, 'Bob': 600, 'Charlie': 700, 'Tom': 800}\n"
     ]
    }
   ],
   "source": [
    "ventes = {\"Alice\": 500, \"Bob\": 600, \"Charlie\": 700}\n",
    "ventes[\"Tom\"] = 800\n",
    "print(ventes)"
   ]
  },
  {
   "cell_type": "markdown",
   "metadata": {},
   "source": [
    "Trouvez le vendeur ayant le plus de ventes."
   ]
  },
  {
   "cell_type": "code",
   "execution_count": 14,
   "metadata": {},
   "outputs": [
    {
     "name": "stdout",
     "output_type": "stream",
     "text": [
      "Le vendeur ayant le plus de ventes est Tom pour la valeur totale de 800.\n"
     ]
    }
   ],
   "source": [
    "vendeur_max = max(ventes, key=ventes.get)\n",
    "ventes_max = ventes[vendeur_max]\n",
    "\n",
    "print(f\"Le vendeur ayant le plus de ventes est {vendeur_max} pour la valeur totale de {ventes_max}.\")"
   ]
  },
  {
   "cell_type": "markdown",
   "metadata": {},
   "source": [
    "Identifiez les produits vendus (sans doublons) à partir d’une liste."
   ]
  },
  {
   "cell_type": "code",
   "execution_count": 15,
   "metadata": {},
   "outputs": [
    {
     "name": "stdout",
     "output_type": "stream",
     "text": [
      "{'Thé noir', 'Thé vert', 'Oolong'}\n"
     ]
    }
   ],
   "source": [
    "produits = [\"Thé vert\", \"Thé noir\", \"Thé vert\", \"Oolong\"]\n",
    "produits_uniques = set(produits)\n",
    "print(produits_uniques)"
   ]
  },
  {
   "cell_type": "markdown",
   "metadata": {},
   "source": [
    "Stockez un tuple pour représenter une transaction et affichez les détails."
   ]
  },
  {
   "cell_type": "code",
   "execution_count": 20,
   "metadata": {},
   "outputs": [
    {
     "name": "stdout",
     "output_type": "stream",
     "text": [
      "Vendeur : Théo Li\n",
      "Produit : Thé vert\n",
      "Montant : 11.5 €\n"
     ]
    }
   ],
   "source": [
    "transaction = (\"Théo Li\", \"Thé vert\", 11.50)\n",
    "\n",
    "(vendeur, produit, montant) = transaction\n",
    "print(f\"Vendeur : {vendeur}\")\n",
    "print(f\"Produit : {produit}\")\n",
    "print(f\"Montant : {montant} €\")"
   ]
  }
 ],
 "metadata": {
  "kernelspec": {
   "display_name": "Python 3",
   "language": "python",
   "name": "python3"
  },
  "language_info": {
   "codemirror_mode": {
    "name": "ipython",
    "version": 3
   },
   "file_extension": ".py",
   "mimetype": "text/x-python",
   "name": "python",
   "nbconvert_exporter": "python",
   "pygments_lexer": "ipython3",
   "version": "3.12.8"
  }
 },
 "nbformat": 4,
 "nbformat_minor": 2
}
